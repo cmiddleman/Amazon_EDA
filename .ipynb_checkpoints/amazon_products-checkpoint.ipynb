{
 "cells": [
  {
   "cell_type": "code",
   "execution_count": 2,
   "id": "b516ab20-2282-49dc-9ad2-8faa28b7e0b2",
   "metadata": {
    "slideshow": {
     "slide_type": "skip"
    }
   },
   "outputs": [],
   "source": [
    "import os\n",
    "import json\n",
    "import gzip\n",
    "import pandas as pd\n",
    "from urllib.request import urlopen\n",
    "import numpy as np\n",
    "import matplotlib.pyplot as plt\n",
    "from scipy import stats\n",
    "import seaborn as sns "
   ]
  },
  {
   "cell_type": "markdown",
   "id": "c14db3d5",
   "metadata": {
    "slideshow": {
     "slide_type": "slide"
    }
   },
   "source": [
    "\n",
    "<h1><center>  \n",
    "\n",
    "# Comparing Amazon Product's Prices by Brand\n",
    "## A Galvanize Capstone Project\n",
    "\n",
    "</center></h1>\n",
    "\n",
    "\n",
    "## Chase Middleman\n",
    "github.com/cmiddleman"
   ]
  },
  {
   "cell_type": "code",
   "execution_count": 4,
   "id": "5c82ce7b-f9c9-45da-9b4e-77510fa9e7e2",
   "metadata": {
    "slideshow": {
     "slide_type": "skip"
    }
   },
   "outputs": [],
   "source": [
    "def parse(path):\n",
    "  g = gzip.open(path, 'rb')\n",
    "  for l in g:\n",
    "    yield eval(l)\n",
    "\n",
    "def getDF(path):\n",
    "  i = 0\n",
    "  df = {}\n",
    "  for d in parse(path):\n",
    "    df[i] = d\n",
    "    i += 1\n",
    "  return pd.DataFrame.from_dict(df, orient='index')\n",
    "\n",
    "\n",
    "\n",
    "#WARNING READ THIS: less than 5% of the data is uploaded in the repo.\n",
    "#To fully replicate results, follow the link in the markdown below, download the 'Clothing, Shoes, and Jewelry' file in the appropriate location\n",
    "# and change which of the two lines below is commented.\n",
    "\n",
    "#df_full = getDF('data/meta_Clothing_Shoes_and_Jewelry.json.gz')\n",
    "df_full = pd.read_json('data/sample_data.json')"
   ]
  },
  {
   "cell_type": "code",
   "execution_count": 5,
   "id": "fd242c45-b61a-416e-80c4-e2c540b7b690",
   "metadata": {
    "slideshow": {
     "slide_type": "skip"
    }
   },
   "outputs": [],
   "source": [
    "pd.set_option('display.max_rows', 100)\n",
    "pd.set_option('display.max_colwidth', 100)"
   ]
  },
  {
   "cell_type": "markdown",
   "id": "c9e6e7e4",
   "metadata": {
    "slideshow": {
     "slide_type": "slide"
    }
   },
   "source": [
    "\n",
    "# The Data"
   ]
  },
  {
   "cell_type": "markdown",
   "id": "fce7e5e5",
   "metadata": {
    "slideshow": {
     "slide_type": "fragment"
    }
   },
   "source": [
    "## ~1.5 million Amazon products from Amazon's 'Clothing, Shoes, and Jewelry' section.\n",
    "\n",
    "#### Data collected up to 2014"
   ]
  },
  {
   "cell_type": "markdown",
   "id": "eb2712f2",
   "metadata": {
    "slideshow": {
     "slide_type": "fragment"
    }
   },
   "source": [
    "Source: <br> \n",
    ">   **Ups and downs: \n",
    "    Modeling the visual evolution of fashion trends with one-class collaborative filtering** <br>\n",
    "    R. He, J. McAuley <br>\n",
    "    WWW, 2016 <br>\n",
    "    http://jmcauley.ucsd.edu/data/amazon/links.html\n",
    "    \n",
    "    "
   ]
  },
  {
   "cell_type": "code",
   "execution_count": 6,
   "id": "7b2c0683",
   "metadata": {
    "slideshow": {
     "slide_type": "skip"
    }
   },
   "outputs": [
    {
     "name": "stdout",
     "output_type": "stream",
     "text": [
      "<class 'pandas.core.frame.DataFrame'>\n",
      "Int64Index: 50000 entries, 1338119 to 302919\n",
      "Data columns (total 9 columns):\n",
      " #   Column       Non-Null Count  Dtype  \n",
      "---  ------       --------------  -----  \n",
      " 0   asin         50000 non-null  object \n",
      " 1   related      34997 non-null  object \n",
      " 2   title        49975 non-null  object \n",
      " 3   price        18985 non-null  float64\n",
      " 4   salesRank    47272 non-null  object \n",
      " 5   imUrl        49999 non-null  object \n",
      " 6   brand        3265 non-null   object \n",
      " 7   categories   50000 non-null  object \n",
      " 8   description  2914 non-null   object \n",
      "dtypes: float64(1), object(8)\n",
      "memory usage: 3.8+ MB\n"
     ]
    }
   ],
   "source": [
    "df_full.info()"
   ]
  },
  {
   "cell_type": "markdown",
   "id": "865070c0",
   "metadata": {
    "slideshow": {
     "slide_type": "slide"
    }
   },
   "source": [
    "<ins> Full database information: </ins>\n",
    " \n",
    "    \n",
    "|    Column    |   Non-Null Count  |  Dtype  |\n",
    "|----------    |   -------------- |   -----  |\n",
    "| asin       | 1503384 non-null | object |\n",
    "| related    | 1057123 non-null | object |\n",
    "| title      | 1502696 non-null | object |\n",
    "| price      | 574882 non-null  | float64|\n",
    "| salesRank  | 1422273 non-null | object |\n",
    "| imUrl      | 1503305 non-null | object |\n",
    "| brand      | 98132 non-null   | object |\n",
    "| categories | 1503384 non-null | object |\n",
    "| description| 85442 non-null   | object |\n",
    "    \n",
    "</div>"
   ]
  },
  {
   "cell_type": "code",
   "execution_count": 8,
   "id": "25da0fd8",
   "metadata": {
    "hide_input": true,
    "slideshow": {
     "slide_type": "slide"
    }
   },
   "outputs": [
    {
     "data": {
      "text/html": [
       "<div>\n",
       "<style scoped>\n",
       "    .dataframe tbody tr th:only-of-type {\n",
       "        vertical-align: middle;\n",
       "    }\n",
       "\n",
       "    .dataframe tbody tr th {\n",
       "        vertical-align: top;\n",
       "    }\n",
       "\n",
       "    .dataframe thead th {\n",
       "        text-align: right;\n",
       "    }\n",
       "</style>\n",
       "<table border=\"1\" class=\"dataframe\">\n",
       "  <thead>\n",
       "    <tr style=\"text-align: right;\">\n",
       "      <th></th>\n",
       "      <th>asin</th>\n",
       "      <th>related</th>\n",
       "      <th>title</th>\n",
       "      <th>price</th>\n",
       "      <th>salesRank</th>\n",
       "      <th>imUrl</th>\n",
       "      <th>brand</th>\n",
       "      <th>categories</th>\n",
       "      <th>description</th>\n",
       "    </tr>\n",
       "  </thead>\n",
       "  <tbody>\n",
       "    <tr>\n",
       "      <th>771689</th>\n",
       "      <td>B007XEXEQ8</td>\n",
       "      <td>{'also_bought': ['B00DYW2MKM', 'B00H0VAPAW', 'B00FCHSJUE', 'B000A81YSO', 'B00CYAP6UI', 'B007X44W...</td>\n",
       "      <td>Wrangler Men's Unlined Denim Vest</td>\n",
       "      <td>NaN</td>\n",
       "      <td>{'Clothing': 29112}</td>\n",
       "      <td>http://ecx.images-amazon.com/images/I/4180cyeyHYL._SX342_.jpg</td>\n",
       "      <td>NaN</td>\n",
       "      <td>[[Clothing, Shoes &amp; Jewelry, Men, Clothing, Jackets &amp; Coats, Vests], [Clothing, Shoes &amp; Jewelry,...</td>\n",
       "      <td>NaN</td>\n",
       "    </tr>\n",
       "    <tr>\n",
       "      <th>129952</th>\n",
       "      <td>B001927YXO</td>\n",
       "      <td>NaN</td>\n",
       "      <td>Babybotte Toddler Fiston Lace-Up Walker,Brown Nub,20 EU (US Toddler 5 M)</td>\n",
       "      <td>NaN</td>\n",
       "      <td>{'Shoes': 281038}</td>\n",
       "      <td>http://ecx.images-amazon.com/images/I/41K7MQSuerL._SY395_.jpg</td>\n",
       "      <td>NaN</td>\n",
       "      <td>[[Clothing, Shoes &amp; Jewelry, Shoes &amp; Accessories: International Shipping Available], [Clothing, ...</td>\n",
       "      <td>NaN</td>\n",
       "    </tr>\n",
       "  </tbody>\n",
       "</table>\n",
       "</div>"
      ],
      "text/plain": [
       "              asin  \\\n",
       "771689  B007XEXEQ8   \n",
       "129952  B001927YXO   \n",
       "\n",
       "                                                                                                    related  \\\n",
       "771689  {'also_bought': ['B00DYW2MKM', 'B00H0VAPAW', 'B00FCHSJUE', 'B000A81YSO', 'B00CYAP6UI', 'B007X44W...   \n",
       "129952                                                                                                  NaN   \n",
       "\n",
       "                                                                           title  \\\n",
       "771689                                         Wrangler Men's Unlined Denim Vest   \n",
       "129952  Babybotte Toddler Fiston Lace-Up Walker,Brown Nub,20 EU (US Toddler 5 M)   \n",
       "\n",
       "        price            salesRank  \\\n",
       "771689    NaN  {'Clothing': 29112}   \n",
       "129952    NaN    {'Shoes': 281038}   \n",
       "\n",
       "                                                                imUrl brand  \\\n",
       "771689  http://ecx.images-amazon.com/images/I/4180cyeyHYL._SX342_.jpg   NaN   \n",
       "129952  http://ecx.images-amazon.com/images/I/41K7MQSuerL._SY395_.jpg   NaN   \n",
       "\n",
       "                                                                                                 categories  \\\n",
       "771689  [[Clothing, Shoes & Jewelry, Men, Clothing, Jackets & Coats, Vests], [Clothing, Shoes & Jewelry,...   \n",
       "129952  [[Clothing, Shoes & Jewelry, Shoes & Accessories: International Shipping Available], [Clothing, ...   \n",
       "\n",
       "       description  \n",
       "771689         NaN  \n",
       "129952         NaN  "
      ]
     },
     "execution_count": 8,
     "metadata": {},
     "output_type": "execute_result"
    }
   ],
   "source": [
    "df_full.sample(2)"
   ]
  },
  {
   "cell_type": "markdown",
   "id": "4d4b0a94",
   "metadata": {
    "slideshow": {
     "slide_type": "fragment"
    }
   },
   "source": [
    "ASIN (Amazon Standard Identification Number) : B0* * * * * * * *\n",
    "\n",
    "product page at: https://amazon.com/dp/B007XEXEQ8\n",
    "\n",
    "ASIN can be many to one! This dataset does not include multiple asin for same product. In general scraping accurate and useful data from Amazon is difficult! <br>\n",
    "\n",
    "See https://blog.hartleybrody.com/scrape-amazon/ for tips and tricks.\n",
    "\n",
    "\n"
   ]
  },
  {
   "cell_type": "code",
   "execution_count": 7,
   "id": "10b3d64d-e7dd-429d-930d-7e26c3496e58",
   "metadata": {
    "scrolled": true,
    "slideshow": {
     "slide_type": "skip"
    }
   },
   "outputs": [
    {
     "name": "stdout",
     "output_type": "stream",
     "text": [
      "<class 'pandas.core.frame.DataFrame'>\n",
      "Int64Index: 574882 entries, 0 to 1503383\n",
      "Data columns (total 4 columns):\n",
      " #   Column  Non-Null Count   Dtype  \n",
      "---  ------  --------------   -----  \n",
      " 0   asin    574882 non-null  object \n",
      " 1   title   574406 non-null  object \n",
      " 2   price   574882 non-null  float64\n",
      " 3   brand   97457 non-null   object \n",
      "dtypes: float64(1), object(3)\n",
      "memory usage: 21.9+ MB\n"
     ]
    }
   ],
   "source": [
    "df_price = df_full.dropna(subset=['price'])\n",
    "df_price[['asin', 'title', 'price', 'brand']].info()"
   ]
  },
  {
   "cell_type": "markdown",
   "id": "dd5e384d",
   "metadata": {
    "slideshow": {
     "slide_type": "slide"
    }
   },
   "source": [
    "<ins> Subset we'll be looking at: </ins>\n",
    "\n",
    "| Column | Non-Null Count |  Dtype  |\n",
    "|--- | ------  --------------|   -----|\n",
    "| asin   | 574882 non-null |object |\n",
    "| title  | 574406 non-null |object |\n",
    "| price  | 574882 non-null  |float64|\n",
    "| brand  | 97457 non-null   |object |"
   ]
  },
  {
   "cell_type": "code",
   "execution_count": null,
   "id": "2c587932-ec86-417e-9d73-94c154fdbe4f",
   "metadata": {
    "slideshow": {
     "slide_type": "skip"
    },
    "tags": []
   },
   "outputs": [],
   "source": []
  },
  {
   "cell_type": "code",
   "execution_count": null,
   "id": "70cb0c6d-3cc5-4c55-ba67-c5effe1b2127",
   "metadata": {
    "slideshow": {
     "slide_type": "skip"
    }
   },
   "outputs": [],
   "source": []
  },
  {
   "cell_type": "code",
   "execution_count": null,
   "id": "3e328af6-4304-4740-a409-7068331d9e10",
   "metadata": {
    "slideshow": {
     "slide_type": "skip"
    }
   },
   "outputs": [],
   "source": []
  },
  {
   "cell_type": "code",
   "execution_count": null,
   "id": "f4208074-8450-413d-bdb1-74b434449aba",
   "metadata": {
    "collapsed": true,
    "jupyter": {
     "outputs_hidden": true
    },
    "slideshow": {
     "slide_type": "skip"
    },
    "tags": []
   },
   "outputs": [],
   "source": []
  },
  {
   "cell_type": "code",
   "execution_count": 11,
   "id": "ea01cac7-3e6a-42d2-955e-1595c3d42297",
   "metadata": {
    "slideshow": {
     "slide_type": "skip"
    }
   },
   "outputs": [],
   "source": [
    "def flatten(L):\n",
    "  return [L] if not isinstance(L, list) else [x for X in L for x in flatten(X)]"
   ]
  },
  {
   "cell_type": "code",
   "execution_count": null,
   "id": "f51d20a2-df84-4a29-8c1c-323609e195b0",
   "metadata": {
    "slideshow": {
     "slide_type": "skip"
    }
   },
   "outputs": [],
   "source": []
  },
  {
   "cell_type": "code",
   "execution_count": 12,
   "id": "242d8661-c2e6-4a40-ba33-22522051dacb",
   "metadata": {
    "slideshow": {
     "slide_type": "skip"
    }
   },
   "outputs": [],
   "source": [
    "def title_contains(title, string):\n",
    "    if not title:\n",
    "        return False\n",
    "    return string in title"
   ]
  },
  {
   "cell_type": "code",
   "execution_count": 13,
   "id": "562880ff-0675-438d-ab32-ee2fb2ae05d7",
   "metadata": {
    "slideshow": {
     "slide_type": "skip"
    }
   },
   "outputs": [],
   "source": [
    "socks_in_title = df_price['title'].apply(lambda x: title_contains(str(x).lower(), 'sock'))"
   ]
  },
  {
   "cell_type": "markdown",
   "id": "756cfbc1",
   "metadata": {
    "slideshow": {
     "slide_type": "slide"
    }
   },
   "source": [
    "Let's look at all products that contain the word 'sock' in the title."
   ]
  },
  {
   "cell_type": "code",
   "execution_count": 94,
   "id": "1db76890",
   "metadata": {
    "hide_input": true,
    "slideshow": {
     "slide_type": "fragment"
    }
   },
   "outputs": [
    {
     "data": {
      "image/png": "[encoded data removed]",
      "text/plain": [
       "<Figure size 720x720 with 1 Axes>"
      ]
     },
     "metadata": {
      "needs_background": "light"
     },
     "output_type": "display_data"
    }
   ],
   "source": [
    "all_sock_prices = np.array(df_price[socks_in_title]['price'])\n",
    "count = len(all_sock_prices)\n",
    "fig, ax = plt.subplots(figsize=(10,10))\n",
    "sns.violinplot(data=all_sock_prices[all_sock_prices < 30], ax=ax, inner=None)\n",
    "ax.set_title(\"All Products with 'sock' in the Title \\n (price truncated at $30)\", size=30)\n",
    "ax.set_xlabel('Price Frequency', labelpad=10,size=20)\n",
    "ax.set_ylabel('Price ($)', size=20)\n",
    "ax.set_xticks([])\n",
    "plt.show()"
   ]
  },
  {
   "cell_type": "markdown",
   "id": "2934e5de",
   "metadata": {
    "hide_input": false,
    "slideshow": {
     "slide_type": "slide"
    }
   },
   "source": [
    "Now let's group by brand."
   ]
  },
  {
   "cell_type": "code",
   "execution_count": 14,
   "id": "96db64cc-c91c-432b-9543-91a789a2c5d7",
   "metadata": {
    "hide_input": true,
    "scrolled": true,
    "slideshow": {
     "slide_type": "fragment"
    }
   },
   "outputs": [
    {
     "data": {
      "text/plain": [
       "brand\n",
       "Sock It To Me          144\n",
       "K. Bell Socks           99\n",
       "Hanes                   69\n",
       "Gold Toe                65\n",
       "Socksmith               64\n",
       "Foot Traffic            53\n",
       "Wheel House Designs     52\n",
       "Stance                  42\n",
       "Nike                    39\n",
       "Trumpette               38\n",
       "dtype: int64"
      ]
     },
     "execution_count": 14,
     "metadata": {},
     "output_type": "execute_result"
    }
   ],
   "source": [
    "df_price[socks_in_title].groupby('brand').size().sort_values(ascending=False)[:10]"
   ]
  },
  {
   "cell_type": "code",
   "execution_count": 15,
   "id": "c07a1417-d37f-4a9c-8f02-27f828da9e7b",
   "metadata": {
    "slideshow": {
     "slide_type": "skip"
    }
   },
   "outputs": [],
   "source": [
    "top_3_socks = list(df_price[socks_in_title].groupby('brand').size().sort_values(ascending=False)[:3].index)"
   ]
  },
  {
   "cell_type": "code",
   "execution_count": 52,
   "id": "4488897a-4fa5-41fe-822a-0f4bc4726c5f",
   "metadata": {
    "hide_input": true,
    "slideshow": {
     "slide_type": "fragment"
    }
   },
   "outputs": [
    {
     "data": {
      "text/html": [
       "<div>\n",
       "<style scoped>\n",
       "    .dataframe tbody tr th:only-of-type {\n",
       "        vertical-align: middle;\n",
       "    }\n",
       "\n",
       "    .dataframe tbody tr th {\n",
       "        vertical-align: top;\n",
       "    }\n",
       "\n",
       "    .dataframe thead th {\n",
       "        text-align: right;\n",
       "    }\n",
       "</style>\n",
       "<table border=\"1\" class=\"dataframe\">\n",
       "  <thead>\n",
       "    <tr style=\"text-align: right;\">\n",
       "      <th></th>\n",
       "      <th>brand</th>\n",
       "      <th>average price</th>\n",
       "    </tr>\n",
       "  </thead>\n",
       "  <tbody>\n",
       "    <tr>\n",
       "      <th>0</th>\n",
       "      <td>Sock It To Me</td>\n",
       "      <td>10.894028</td>\n",
       "    </tr>\n",
       "    <tr>\n",
       "      <th>1</th>\n",
       "      <td>K. Bell Socks</td>\n",
       "      <td>9.400000</td>\n",
       "    </tr>\n",
       "    <tr>\n",
       "      <th>2</th>\n",
       "      <td>Hanes</td>\n",
       "      <td>9.446667</td>\n",
       "    </tr>\n",
       "  </tbody>\n",
       "</table>\n",
       "</div>"
      ],
      "text/plain": [
       "           brand  average price\n",
       "0  Sock It To Me      10.894028\n",
       "1  K. Bell Socks       9.400000\n",
       "2          Hanes       9.446667"
      ]
     },
     "execution_count": 52,
     "metadata": {},
     "output_type": "execute_result"
    }
   ],
   "source": [
    "sock_means_df = df_price[socks_in_title][['brand','price']].groupby('brand').mean().loc[top_3_socks]\n",
    "sock_means_df.reset_index(level=0, inplace=True)\n",
    "sock_means_df.columns = ['brand', 'average price']\n",
    "sock_means = np.array(sock_means_df['average price'])\n",
    "sock_means_df"
   ]
  },
  {
   "cell_type": "code",
   "execution_count": 17,
   "id": "fac87c5c-e1f0-4c44-ac8d-89811a50ce49",
   "metadata": {
    "slideshow": {
     "slide_type": "skip"
    }
   },
   "outputs": [],
   "source": [
    "sockit_sock_prices = list(df_price['price'][socks_in_title & (df_price['brand'] == top_3_socks[0])])\n",
    "kbell_sock_prices = list(df_price['price'][socks_in_title & (df_price['brand'] == top_3_socks[1])])\n",
    "hanes_sock_prices = list(df_price['price'][socks_in_title & (df_price['brand'] == top_3_socks[2])])\n",
    "\n",
    "top_3_sock_prices = [list(df_price['price'][socks_in_title & (df_price['brand'] == brand)]) for brand in top_3_socks]"
   ]
  },
  {
   "cell_type": "code",
   "execution_count": 89,
   "id": "dfcfb9c4",
   "metadata": {
    "hide_input": true,
    "slideshow": {
     "slide_type": "slide"
    }
   },
   "outputs": [
    {
     "data": {
      "image/png": "[encoded data removed]",
      "text/plain": [
       "<Figure size 720x720 with 1 Axes>"
      ]
     },
     "metadata": {
      "needs_background": "light"
     },
     "output_type": "display_data"
    }
   ],
   "source": [
    "fig, ax = plt.subplots(figsize=(10,10))\n",
    "sns.violinplot(data=top_3_sock_prices, ax=ax, inner=None)\n",
    "ax.scatter([0,1,2], sock_means,\n",
    "          color='yellow')\n",
    "ax.set_title('Sock Price Distributions \\n (Top Three Brands)', size=30)\n",
    "ax.set_xlabel('Brand', labelpad=10,size=30)\n",
    "ax.set_xbound(-.5, 2.5)\n",
    "ax.set_ylabel('Price ($)', size=20)\n",
    "ax.set_xticklabels(top_3_socks, size=15)\n",
    "plt.show()"
   ]
  },
  {
   "cell_type": "code",
   "execution_count": 86,
   "id": "5d8dfae8-bf8f-4b5a-ba9b-75a3c3926c0c",
   "metadata": {
    "hide_input": false,
    "scrolled": true,
    "slideshow": {
     "slide_type": "skip"
    }
   },
   "outputs": [
    {
     "data": {
      "text/plain": [
       "[Text(1, 0, 'Sock It To Me'), Text(2, 0, 'K. Bell Socks'), Text(3, 0, 'Hanes')]"
      ]
     },
     "execution_count": 86,
     "metadata": {},
     "output_type": "execute_result"
    },
    {
     "data": {
      "image/png": "[encoded data removed]",
      "text/plain": [
       "<Figure size 432x288 with 1 Axes>"
      ]
     },
     "metadata": {
      "needs_background": "light"
     },
     "output_type": "display_data"
    }
   ],
   "source": [
    "fig, ax = plt.subplots()\n",
    "\n",
    "#plots price data with jitter to see price clusters\n",
    "yA, yB, yC = sockit_sock_prices, kbell_sock_prices, hanes_sock_prices\n",
    "\n",
    "jitter = .05\n",
    "xA, xB, xC = np.random.normal(1, jitter, len(yA)), np.random.normal(2, jitter, len(yB)), np.random.normal(3,jitter,len(yC))\n",
    "\n",
    "ax.scatter(xA, yA,\n",
    "          color='b',\n",
    "          s=10)\n",
    "ax.scatter(xB, yB,\n",
    "          color='r',\n",
    "          s=10)\n",
    "ax.scatter(xC, yC,\n",
    "          color='g',\n",
    "          s=10)\n",
    "ax.set_title('Sock Price Distributions \\n (Top Three Brands)', size=20)\n",
    "ax.set_xlabel('Brand', labelpad=10,size=14)\n",
    "ax.set_ylabel('Price ($)', size=14)\n",
    "ax.set_xticks([1,2,3])\n",
    "ax.set_xticklabels(top_3_socks)"
   ]
  },
  {
   "cell_type": "code",
   "execution_count": 96,
   "id": "986300a2",
   "metadata": {
    "slideshow": {
     "slide_type": "skip"
    }
   },
   "outputs": [],
   "source": [
    "def report_results(p01, p02, p12, alpha=.05):\n",
    "    print(\"We ran a Welch's t-test on the companies pair-wise for the null hypothesis that the \\n means of the price distributions are equal at an alpha=.05 significance level.\")\n",
    "    print('')\n",
    "    print (f'p-value for Sock It To Me vs K. Bell Socks is {p01:.4f}')\n",
    "    print (f'p-value for Sock It To Me vs Hanes is {p02:.4f}')\n",
    "    print (f'p-value for K. Bell Socks vs Hanes is {p12:.4f}')\n",
    "           \n",
    "        "
   ]
  },
  {
   "cell_type": "code",
   "execution_count": 97,
   "id": "f69b3e1b-3050-4d39-9c47-c22ff739fcea",
   "metadata": {
    "hide_input": true,
    "slideshow": {
     "slide_type": "slide"
    }
   },
   "outputs": [
    {
     "name": "stdout",
     "output_type": "stream",
     "text": [
      "We ran a Welch's t-test on the companies pair-wise for the null hypothesis that the \n",
      " means of the price distributions are equal at an alpha=.05 significance level.\n",
      "\n",
      "p-value for Sock It To Me vs K. Bell Socks is 0.0000\n",
      "p-value for Sock It To Me vs Hanes is 0.0004\n",
      "p-value for K. Bell Socks vs Hanes is 0.9100\n"
     ]
    }
   ],
   "source": [
    "#Stats Tests\n",
    "alpha = .05\n",
    "\n",
    "_,p01 = stats.ttest_ind(top_3_sock_prices[0], top_3_sock_prices[1], equal_var=False)\n",
    "_,p02 = stats.ttest_ind(top_3_sock_prices[0], top_3_sock_prices[2], equal_var=False)\n",
    "_,p12 = stats.ttest_ind(top_3_sock_prices[1], top_3_sock_prices[2], equal_var=False)\n",
    "\n",
    "\n",
    "\n",
    "_,u01 = stats.mannwhitneyu( top_3_sock_prices[1],top_3_sock_prices[0], alternative='less')\n",
    "_,u02 = stats.mannwhitneyu(top_3_sock_prices[0], top_3_sock_prices[2])\n",
    "_,u12 = stats.mannwhitneyu(top_3_sock_prices[1], top_3_sock_prices[2])\n",
    "\n",
    "report_results(p01,p02,p12, alpha)"
   ]
  },
  {
   "cell_type": "markdown",
   "id": "2c9a6845",
   "metadata": {
    "slideshow": {
     "slide_type": "fragment"
    }
   },
   "source": [
    "Since we are running 3 tests, we need to normalize alpha to .05/3 = .017 <br>\n",
    "\n",
    "Looking at the p-values for comparing Sock It To Me to the other two top brands we reject the hull hypothesis that the means are equal and conclude that the higher mean of sock products from Sock It To Me is significant at the 95% confidence level.<br>\n",
    "\n",
    "However, we fail to reject the null hypothesis of equal means for K. Bell Socks and Hanes."
   ]
  },
  {
   "cell_type": "markdown",
   "id": "e0adab99",
   "metadata": {
    "slideshow": {
     "slide_type": "slide"
    }
   },
   "source": [
    "# Next Steps"
   ]
  },
  {
   "cell_type": "markdown",
   "id": "c07b0a81",
   "metadata": {
    "slideshow": {
     "slide_type": "fragment"
    }
   },
   "source": [
    "## Create a more robust querying function.\n"
   ]
  },
  {
   "cell_type": "markdown",
   "id": "4c6b72c5",
   "metadata": {
    "slideshow": {
     "slide_type": "fragment"
    }
   },
   "source": [
    "\n",
    "## Scrape data internally rather than using an external source (requires more funding!)"
   ]
  }
 ],
 "metadata": {
  "celltoolbar": "Slideshow",
  "kernelspec": {
   "display_name": "Python 3",
   "language": "python",
   "name": "python3"
  },
  "language_info": {
   "codemirror_mode": {
    "name": "ipython",
    "version": 3
   },
   "file_extension": ".py",
   "mimetype": "text/x-python",
   "name": "python",
   "nbconvert_exporter": "python",
   "pygments_lexer": "ipython3",
   "version": "3.8.8"
  }
 },
 "nbformat": 4,
 "nbformat_minor": 5
}
